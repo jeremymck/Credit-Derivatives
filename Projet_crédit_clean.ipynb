{
 "cells": [
  {
   "cell_type": "markdown",
   "metadata": {},
   "source": [
    "# AJUSTEMENT BILATERAL DE VALEUR DE CREDIT\n",
    "\n",
    "\n",
    "\n",
    "Ce notebook Python implémente les algorithmes 1, 2 et 3 de l'article *Bilateral counterparty risk valuation with stochastic dynamical models and application to Credit Default Swaps* de Brigo et Capponi (2008). Lien vers l'article: https://arxiv.org/pdf/0812.3705.pdf.\n",
    "\n",
    "Nous introduisons, étape par étape, les différents outils mobilisés pour calculer l'ajustement bilatéral de valeur de crédit (BRCVA).\n",
    "\n",
    "\n",
    "### SOMMAIRE:\n",
    "### 1. Calcul de la fonction de répartition d'un processus CIR intégré\n",
    "### 2. Copules et dérivées de copules\n",
    "### 3. Ajustement de la composante déterministe de l'intensité aux données de marché\n",
    "### 4. Simulation des temps de défaut\n",
    "### 5. Calcul de la BRCVA par méthode de Monte Carlo (algorithmes 1, 2 et 3 de l'article)\n",
    "### 6. Pistes d'amélioration\n",
    "\n",
    "\n",
    "\n",
    "Au début de chaque partie, nous présentons brièvement le contexte d'utilisation de l'outil en faisant référence à l'article. Nous citons aussi les documents externes qui nous ont servi à construire nos algorithmes.\n",
    "\n",
    "N'hésitez pas à nous contacter si vous avez des questions ou remarques concernant notre travail.\n",
    "\n",
    "Johan MACQ _ johan.macq@ensae-paristech.fr\n",
    "\n",
    "Jeremy MARCK _ jeremy.marck@ensae.fr\n",
    "\n",
    "Antoine LEFEBVRE _ antoine.lefebvre@ensae-paristech.fr\n"
   ]
  },
  {
   "cell_type": "code",
   "execution_count": 1,
   "metadata": {},
   "outputs": [],
   "source": [
    "from scipy import integrate\n",
    "from scipy import stats\n",
    "from scipy.stats import norm\n",
    "from scipy.stats import multivariate_normal\n",
    "import numpy as np\n",
    "import matplotlib.pyplot as plt\n",
    "from cmath import *\n",
    "import math\n",
    "import pandas as pd"
   ]
  },
  {
   "cell_type": "markdown",
   "metadata": {},
   "source": [
    "## 1. Calcul de la fonction de répartition d'un processus CIR intégré:\n",
    "\n",
    "Le calcul de la BRCVA repose sur les formules (4.4) et (4.6) de l'article (page 12). Ces formules font intervenir des fonctions de répartition de processus CIR integrés et shiftés. C'est de ce type de fonction dont il s'agit dans l'algorithme 3 page 14 lorsque les auteurs écrivent \"p_k = CDF(x_k)\".\n",
    "\n",
    "Pour calculer la fonction de répartition d'un CIR intégré, le plus rapide est de passer par sa fonction caractéristique. Cette dernière est en effet parfaitement connue. Teng, Ehrhardt et Gunther proposent une méthode d'évaluation numérique de la fonction de répartition d'un processus CIR intégré dans leur article *Numerical evaluation of complex logarithms in the Cox–Ingersoll–Ross model* (2012). Lien vers l'article: https://www.researchgate.net/publication/265226906_Numerical_Evaluation_of_Complex_Logarithms_in_the_Cox-Ingersoll-Ross_Model. Nous avons exploité leurs résultats pour implémenter la fonction de répartition d'un CIR intégré.\n",
    "\n",
    "Dans la cellule suivante, nous introduisons différentes fonctions imbriquées les unes dans les autres. Les noms donnés aux fonctions ont été conservés par rapport à l'article de Teng, Ehrhardt et Gunther."
   ]
  },
  {
   "cell_type": "code",
   "execution_count": 2,
   "metadata": {},
   "outputs": [],
   "source": [
    "def b(u,kappa,mu,nu):\n",
    "    \n",
    "    # u : point d'évaluation de la fonction b\n",
    "    # kappa: force de rappel dans le modèle CIR\n",
    "    # mu: moyenne dans le modèle CIR\n",
    "    # nu: volatilité dans le modèle CIR\n",
    "    \n",
    "    a = complex(kappa**2, -2*nu**2*u)\n",
    "    r = a**(0.5) # racine carrée de a\n",
    "    if r.real>=0:\n",
    "        return(r)\n",
    "    else:\n",
    "        return(0)\n",
    "\n",
    "def a(u,kappa,mu,nu):\n",
    "    return((kappa+b(u,kappa,mu,nu))/(kappa-b(u,kappa,mu,nu)))\n",
    "\n",
    "def c(u,kappa,mu,nu):\n",
    "    return(b(u,kappa,mu,nu)/(kappa-b(u,kappa,mu,nu)))\n",
    "\n",
    "def C(t,u,kappa,mu,nu):\n",
    "    return(c(u,kappa,mu,nu)*exp((kappa+b(u,kappa,mu,nu))*t/2)/(a(u,kappa,mu,nu)*exp(b(u,kappa,mu,nu)*t)-1))\n",
    "\n",
    "def A(t,u,kappa,mu,nu):\n",
    "    alpha = 2*kappa*mu/nu**2\n",
    "    return(alpha*log(C(t,u,kappa,mu,nu))+alpha*log(2))\n",
    "\n",
    "def B(t,u,kappa,mu,nu):\n",
    "    x = 2*u*complex(0,1)/(kappa-b(u,kappa,mu,nu))\n",
    "    y = exp(b(u,kappa,mu,nu)*t)-1\n",
    "    z = a(u,kappa,mu,nu)*exp(b(u,kappa,mu,nu)*t)-1\n",
    "    return(x*y/z)\n",
    "    \n",
    "def phi(t,u,kappa,mu,nu,y0): # fonction caractéristique\n",
    "    return(exp(A(t,u,kappa,mu,nu)+B(t,u,kappa,mu,nu)*y0))\n",
    "\n",
    "def g(t,u,kappa,mu,nu,y0,yt):\n",
    "    return((exp(-u*yt*complex(0,1))*phi(t,u,kappa,mu,nu,y0)/(complex(0,1)*u)).real)\n",
    "\n",
    "def f(u,t,kappa,mu,nu,y0,yt): # densité de probabilité\n",
    "    a_inf = (kappa*mu*t+y0)/nu\n",
    "    return(1/2-1/(u*math.pi*a_inf)*g(t,-log(u)/a_inf,kappa,mu,nu,y0,yt))"
   ]
  },
  {
   "cell_type": "markdown",
   "metadata": {},
   "source": [
    "Ci-dessous, la fonction de répartition d'un CIR intégré:"
   ]
  },
  {
   "cell_type": "code",
   "execution_count": 3,
   "metadata": {},
   "outputs": [],
   "source": [
    "def F(yt,t,i,kappa,mu,nu,y0):\n",
    "    kappa = kappa[i]\n",
    "    mu = mu[i]\n",
    "    nu = nu[i]\n",
    "    y0 = y0[i]\n",
    "    return(integrate.quad(f, 0, 1, args=(t,kappa,mu,nu,y0,yt))[0])"
   ]
  },
  {
   "cell_type": "markdown",
   "metadata": {},
   "source": [
    "La cellule suivante présente différents jeux de paramètres correspondant à différents profils de risque. Les valeurs sont celles de la table 2 page 15 de l'article de Brigo et Capponi."
   ]
  },
  {
   "cell_type": "code",
   "execution_count": 4,
   "metadata": {},
   "outputs": [],
   "source": [
    "# en position 0: \"low risk\"\n",
    "# en position 1: \"middle risk\"\n",
    "# en position 2: \"high risk\"\n",
    "\n",
    "y0 = [0.00001, 0.01, 0.03] # valeur initiale du processus CIR\n",
    "kappa = [0.9, 0.8, 0.5]\n",
    "mu = [0.0001, 0.02, 0.05]\n",
    "nu = [0.01, 0.2, 0.5]"
   ]
  },
  {
   "cell_type": "markdown",
   "metadata": {},
   "source": [
    "Et ensuite le tracé de la fonction de répartition pour les différents profils de risque:"
   ]
  },
  {
   "cell_type": "code",
   "execution_count": 29,
   "metadata": {},
   "outputs": [
    {
     "name": "stderr",
     "output_type": "stream",
     "text": [
      "C:\\Users\\Antoine\\Anaconda3\\lib\\site-packages\\ipykernel_launcher.py:6: IntegrationWarning: The integral is probably divergent, or slowly convergent.\n",
      "  \n",
      "C:\\Users\\Antoine\\Anaconda3\\lib\\site-packages\\ipykernel_launcher.py:6: IntegrationWarning: The maximum number of subdivisions (50) has been achieved.\n",
      "  If increasing the limit yields no improvement it is advised to analyze \n",
      "  the integrand in order to determine the difficulties.  If the position of a \n",
      "  local difficulty can be determined (singularity, discontinuity) one will \n",
      "  probably gain from splitting up the interval and calling the integrator \n",
      "  on the subranges.  Perhaps a special-purpose integrator should be used.\n",
      "  \n",
      "C:\\Users\\Antoine\\Anaconda3\\lib\\site-packages\\ipykernel_launcher.py:6: IntegrationWarning: The algorithm does not converge.  Roundoff error is detected\n",
      "  in the extrapolation table.  It is assumed that the requested tolerance\n",
      "  cannot be achieved, and that the returned result (if full_output = 1) is \n",
      "  the best which can be obtained.\n",
      "  \n"
     ]
    },
    {
     "data": {
      "text/plain": [
       "Text(0.5, 1.0, 'Fonctions de répartition des CIR intégrés pour différents profils de risque')"
      ]
     },
     "execution_count": 29,
     "metadata": {},
     "output_type": "execute_result"
    },
    {
     "data": {
      "image/png": "[encoded data removed]",
      "text/plain": [
       "<Figure size 432x288 with 1 Axes>"
      ]
     },
     "metadata": {
      "needs_background": "light"
     },
     "output_type": "display_data"
    }
   ],
   "source": [
    "t = 1 # CIR intégrés jusqu'à t = 1 an\n",
    "cdfm = [] # CDF middle risk\n",
    "cdfr = [] # high risk\n",
    "cdfl = [] # low risk\n",
    "points = np.linspace(0.001, 0.1, 100)\n",
    "for x in points:\n",
    "    cdfm.append(F(x,t,1,kappa,mu,nu,y0))\n",
    "    cdfr.append(F(x,t,2,kappa,mu,nu,y0))\n",
    "    cdfl.append(F(x,t,0,kappa,mu,nu,y0))\n",
    "\n",
    "plt.plot(points, cdfm, color = 'blue',label = 'middle risk')\n",
    "plt.plot(points, cdfr, color = 'red', label = 'high risk')\n",
    "plt.plot(points, cdfl, color = 'green', label = 'low risk')\n",
    "plt.legend()\n",
    "plt.title('Fonctions de répartition des CIR intégrés pour différents profils de risque', loc = 'center')"
   ]
  },
  {
   "cell_type": "markdown",
   "metadata": {},
   "source": [
    "#### Remarque:\n",
    "- Pour le profil peu risqué (courbe verte), la fonction de répartition vaut 1 très rapidement. On peut dire que le CIR intégré du profil peu risqué est \"presque sûrement petit\". Par conséquent, son instant de défaut, inversement proportionnel à l'intensité (et au CIR intégré), sera donc très grand! Le position relative des courbes est donc conforme à l'intuition.\n",
    "- On remarque des oscillations sur le tracé des courbes. Cela est dû aux oscillations de la fonction caractéristique. Un moyen de limiter ces oscillations et d'avoir recours à une intégration numérique adaptative de Gauss-Lobatto, comme le préconisent Teng, Ehrhardt et Gunther."
   ]
  },
  {
   "cell_type": "markdown",
   "metadata": {},
   "source": [
    "## 2. Copules et dérivées de copules:\n",
    "\n",
    "Le calcul de la BRCVA repose également sur le calcul de fonctions exotiques dépendant de copules et de leurs dérivées. C'est le cas des fonctions (4.5) et (4.7) (p.12-13) utilisées dans l'algorithme 3 (p.14).\n",
    "\n",
    "Dans l'article, les temps de défauts sont corrélés au moyen d'une copule gaussienne. La copule gaussienne s'exprime facilement en fonction de l'inverse de la fonction de répartition de la loi normale centrée réduite et de la fonction de répartition d'une gaussienne multivariée.\n",
    "\n",
    "La cellule suivante définit des copules bivariées et trivariées associées à une loi gaussienne de moyenne *mean* et de matrice de covariance *covariance*. On retrouve ensuite des propriétés des copules."
   ]
  },
  {
   "cell_type": "code",
   "execution_count": 10,
   "metadata": {},
   "outputs": [
    {
     "name": "stdout",
     "output_type": "stream",
     "text": [
      "C(u,1)=u: 0.29999999999999993\n",
      "C(1,1,1)=1: 1.0\n"
     ]
    }
   ],
   "source": [
    "# copules bivariées et trivariées\n",
    "def copule_biv(a,b,mean,covariance):\n",
    "    return(multivariate_normal(mean, covariance).cdf(norm.ppf([a,b])))\n",
    "\n",
    "def copule_triv(a,b,c,mean,covariance):\n",
    "    return(multivariate_normal(mean, covariance).cdf(norm.ppf([a,b,c])))\n",
    "\n",
    "\n",
    "mean_biv = [0,0]\n",
    "cov_biv = [[1,0],[0,1]]\n",
    "print('C(u,1)=u:', copule_biv(0.3,1,mean_biv,cov_biv))\n",
    "\n",
    "mean_triv = [0,0,0]\n",
    "cov_triv = [[1,-0.2,-0.2],[-0.2,1,-0.2],[-0.2,-0.2,10]]\n",
    "print('C(1,1,1)=1:', copule_triv(1,1,1,mean_triv,cov_triv))"
   ]
  },
  {
   "cell_type": "markdown",
   "metadata": {},
   "source": [
    "Dans la cellule suivante, nous calculons les dérivées de copules bivariées et trivariées par rapport à leurs différentes variables via un taux d'accroissement."
   ]
  },
  {
   "cell_type": "code",
   "execution_count": 11,
   "metadata": {},
   "outputs": [],
   "source": [
    "### dérivées des copules trivariées par rapport aux variables 1, 2 et 3:\n",
    "\n",
    "def dC1_triv(a,b,c,mean,cov):\n",
    "    h = 0.0001\n",
    "    return((copule_triv(a+h,b,c,mean,cov)-copule_triv(a-h,b,c,mean,cov))/(2*h))\n",
    "\n",
    "def dC2_triv(a,b,c,mean,cov):\n",
    "    h = 0.0001\n",
    "    return((copule_triv(a,b+h,c,mean,cov)-copule_triv(a,b-h,c,mean,cov))/(2*h))\n",
    "\n",
    "def dC3_triv(a,b,c,mean,cov):\n",
    "    h = 0.0001\n",
    "    return((copule_triv(a,b,c+h,mean,cov)-copule_triv(a,b,c-h,mean,cov))/(2*h))\n",
    "\n",
    "\n",
    "### dérivées des copules bivariées par rapport aux variables 1, 2 et 3:\n",
    "\n",
    "def dC1_biv(a,b,mean,cov):\n",
    "    h = 0.0001\n",
    "    return((copule_biv(a+h,b,mean,cov)-copule_biv(a-h,b,mean,cov))/(2*h))\n",
    "\n",
    "def dC2_biv(a,b,mean,cov):\n",
    "    h = 0.0001\n",
    "    return((copule_biv(a,b+h,mean,cov)-copule_biv(a,b-h,mean,cov))/(2*h))"
   ]
  },
  {
   "cell_type": "markdown",
   "metadata": {},
   "source": [
    "Et voici la fonction des formules (4.5) et (4.7) de l'article utilisée dans l'algorithme 3."
   ]
  },
  {
   "cell_type": "code",
   "execution_count": 12,
   "metadata": {},
   "outputs": [
    {
     "name": "stdout",
     "output_type": "stream",
     "text": [
      "-0.15587323728530364\n",
      "-0.0794619545293134\n"
     ]
    }
   ],
   "source": [
    "def Cf(u1,U,index,U02,U12,U20,U10,mean,covariance):\n",
    "    \n",
    "    # si 'index' en argument vaut 2, renvoie la fonction (4.5) \n",
    "    # si 'index' en argument vaut 0, renvoie la fonction (4.7)\n",
    "    \n",
    "    m = np.asarray(mean)\n",
    "    cov = np.asarray(covariance)\n",
    "    m02 = m[np.ix_([0,2])]\n",
    "    c02 = cov[np.ix_([0,2],[0,2])]\n",
    "    if index==2:\n",
    "        m12 = m[np.ix_([1,2])]\n",
    "        c12 = cov[np.ix_([1,2],[1,2])]\n",
    "        num = dC2_biv(u1,U,m12,c12)-dC3_triv(U02,u1,U,m,cov)-dC2_biv(U12,U,m12,c12)+dC3_triv(U02,U12,U,m,cov)\n",
    "        den = 1 - dC2_biv(U02,U,m02,c02) - dC2_biv(U12,U,m12,c12) + dC3_triv(U02,U12,U,m,cov)\n",
    "        return(num/den)\n",
    "    else:\n",
    "        m01 = m[np.ix_([0,1])]\n",
    "        c01 = cov[np.ix_([0,1],[0,1])]\n",
    "        num = dC2_biv(U,u1,m01,c01)-dC3_triv(U,u1,U20,m,cov)-dC2_biv(U,U10,m01,c01)+dC3_triv(U,U10,U20,m,cov)\n",
    "        den = 1 - dC2_biv(U,U20,m02,c02) - dC2_biv(U,U10,m01,c01) + dC3_triv(U,U10,U20,m,cov)\n",
    "        return(num/den)\n",
    "\n",
    "    \n",
    "print(Cf(0.1,0.2,2,0.3,0.4,0.5,0.6,mean_triv,cov_triv))\n",
    "print(Cf(0.1,0.2,0,0.3,0.4,0.5,0.6,mean_triv,cov_triv))"
   ]
  },
  {
   "cell_type": "markdown",
   "metadata": {},
   "source": [
    "## 3. Ajustement de la composante déterministe de l'intensité aux données de marché\n",
    "\n",
    "Il s'agit de calculer dans cette partie la composante $\\psi_{i}(t,\\beta_{i})$  de l'intensité (cf. formule (3.9) p.10). Les auteurs \"calent\" les probabilités de défaut de leur modèle sur les probabilités de défaut contenues dans les informations de marché (cf. formules (5.1) à (5.3) p.15-16). Les probabilités de défaut de marché découlent des informations contenues dans les spreads et les taux de recouvrement. Le lien est obtenu par la formule suivante: Q(tau_i > t) = exp(-s(i,t)t/LGD(i) ). Source: chapitre 24 \"Credit Risk\" de la 9e édition de l'ouvrage *Options, futures and other derivatives* de John C. Hull.\n",
    "\n",
    "Dans la cellule suivante, nous introduisons des données de marché pour les taux de recouvrement et les spreads. Ce sont les mêmes données que celles figurant table 3 page 15 de l'article. "
   ]
  },
  {
   "cell_type": "code",
   "execution_count": 13,
   "metadata": {},
   "outputs": [
    {
     "data": {
      "text/html": [
       "<div>\n",
       "<style scoped>\n",
       "    .dataframe tbody tr th:only-of-type {\n",
       "        vertical-align: middle;\n",
       "    }\n",
       "\n",
       "    .dataframe tbody tr th {\n",
       "        vertical-align: top;\n",
       "    }\n",
       "\n",
       "    .dataframe thead th {\n",
       "        text-align: right;\n",
       "    }\n",
       "</style>\n",
       "<table border=\"1\" class=\"dataframe\">\n",
       "  <thead>\n",
       "    <tr style=\"text-align: right;\">\n",
       "      <th></th>\n",
       "      <th>low</th>\n",
       "      <th>middle</th>\n",
       "      <th>high</th>\n",
       "    </tr>\n",
       "  </thead>\n",
       "  <tbody>\n",
       "    <tr>\n",
       "      <th>1</th>\n",
       "      <td>0.0000</td>\n",
       "      <td>0.0092</td>\n",
       "      <td>0.0234</td>\n",
       "    </tr>\n",
       "    <tr>\n",
       "      <th>2</th>\n",
       "      <td>0.0000</td>\n",
       "      <td>0.0104</td>\n",
       "      <td>0.0244</td>\n",
       "    </tr>\n",
       "    <tr>\n",
       "      <th>3</th>\n",
       "      <td>0.0000</td>\n",
       "      <td>0.0112</td>\n",
       "      <td>0.0248</td>\n",
       "    </tr>\n",
       "    <tr>\n",
       "      <th>4</th>\n",
       "      <td>0.0001</td>\n",
       "      <td>0.0117</td>\n",
       "      <td>0.0250</td>\n",
       "    </tr>\n",
       "    <tr>\n",
       "      <th>5</th>\n",
       "      <td>0.0001</td>\n",
       "      <td>0.0120</td>\n",
       "      <td>0.0251</td>\n",
       "    </tr>\n",
       "    <tr>\n",
       "      <th>6</th>\n",
       "      <td>0.0001</td>\n",
       "      <td>0.0122</td>\n",
       "      <td>0.0252</td>\n",
       "    </tr>\n",
       "    <tr>\n",
       "      <th>7</th>\n",
       "      <td>0.0001</td>\n",
       "      <td>0.0124</td>\n",
       "      <td>0.0253</td>\n",
       "    </tr>\n",
       "    <tr>\n",
       "      <th>8</th>\n",
       "      <td>0.0001</td>\n",
       "      <td>0.0125</td>\n",
       "      <td>0.0253</td>\n",
       "    </tr>\n",
       "    <tr>\n",
       "      <th>9</th>\n",
       "      <td>0.0001</td>\n",
       "      <td>0.0126</td>\n",
       "      <td>0.0254</td>\n",
       "    </tr>\n",
       "    <tr>\n",
       "      <th>10</th>\n",
       "      <td>0.0001</td>\n",
       "      <td>0.0127</td>\n",
       "      <td>0.0254</td>\n",
       "    </tr>\n",
       "  </tbody>\n",
       "</table>\n",
       "</div>"
      ],
      "text/plain": [
       "       low  middle    high\n",
       "1   0.0000  0.0092  0.0234\n",
       "2   0.0000  0.0104  0.0244\n",
       "3   0.0000  0.0112  0.0248\n",
       "4   0.0001  0.0117  0.0250\n",
       "5   0.0001  0.0120  0.0251\n",
       "6   0.0001  0.0122  0.0252\n",
       "7   0.0001  0.0124  0.0253\n",
       "8   0.0001  0.0125  0.0253\n",
       "9   0.0001  0.0126  0.0254\n",
       "10  0.0001  0.0127  0.0254"
      ]
     },
     "execution_count": 13,
     "metadata": {},
     "output_type": "execute_result"
    }
   ],
   "source": [
    "# losses given default des différents profils de risque\n",
    "LGD = [0.6,0.65,0.7]\n",
    "\n",
    "# spreads de crédit\n",
    "low = np.asarray([0,0,0,1,1,1,1,1,1,1])*0.0001\n",
    "mid = np.asarray([92,104,112,117,120,122,124,125,126,127])*0.0001\n",
    "high = np.asarray([234,244,248,250,251,252,253,253,254,254])*0.0001\n",
    "maturity = range(1,11)\n",
    "spreads = pd.DataFrame({'low':low,'middle':mid,'high':high}, index = maturity)\n",
    "spreads"
   ]
  },
  {
   "cell_type": "markdown",
   "metadata": {},
   "source": [
    "Fonction qui calcule le spread du profil de risque i à un instant t quelconque, par interpolation linéaire des taux cotés sur le marché:"
   ]
  },
  {
   "cell_type": "code",
   "execution_count": 15,
   "metadata": {},
   "outputs": [
    {
     "data": {
      "text/plain": [
       "0.024600000000000004"
      ]
     },
     "execution_count": 15,
     "metadata": {},
     "output_type": "execute_result"
    }
   ],
   "source": [
    "def spread(t, i, spreads):\n",
    "    if t<1:\n",
    "        return(spreads.iloc[0,i])\n",
    "    if t>spreads.shape[0]:\n",
    "        return(spreads.iloc[-1,i])\n",
    "    if (t>=1)&(t<=spreads.shape[0]):\n",
    "        if t%1==0:\n",
    "            return(spreads.iloc[int(t)-1,i])\n",
    "        else:\n",
    "            a = math.floor(t)-1\n",
    "            b = a+1\n",
    "            delta = t - b\n",
    "            return( spreads.iloc[a,i] + (spreads.iloc[b,i]-spreads.iloc[a,i])*delta )\n",
    "\n",
    "spread(2.5, 2, spreads) # spread maturité 2.5 ans profil de risque 2 (high)"
   ]
  },
  {
   "cell_type": "markdown",
   "metadata": {},
   "source": [
    "Fonction de survie du profil de risque i:"
   ]
  },
  {
   "cell_type": "code",
   "execution_count": 16,
   "metadata": {},
   "outputs": [
    {
     "name": "stdout",
     "output_type": "stream",
     "text": [
      "Proba de survie du profil risqué après 10 ans: 0.6956858100877537\n",
      "Proba de survie du profil non risqué après 10 ans: 0.9983347214509387\n"
     ]
    }
   ],
   "source": [
    "def Q(t, i, spreads, LGD):\n",
    "    return(math.exp(-spread(t, i, spreads)*t/LGD[i]))\n",
    "\n",
    "print('Proba de survie du profil risqué après 10 ans:', Q(10,2,spreads,LGD))\n",
    "print('Proba de survie du profil non risqué après 10 ans:', Q(10,0,spreads,LGD))"
   ]
  },
  {
   "cell_type": "markdown",
   "metadata": {},
   "source": [
    "Ci-après, prix à t du zéro-coupon de maturité T dans le modèle CIR (formule fermée donnée dans le cours de taux et accessible au lien suivant: https://en.wikipedia.org/wiki/Cox%E2%80%93Ingersoll%E2%80%93Ross_model). On dit ici \"zéro-coupon\" mais en réalité la quantité P_CIR obtenue ci-dessous n'a aucun rapport avec un zéro-coupon. C'est l'espérance d'un processus CIR intégré utilisé pour modéliser une intensité de défaut stochastique. Plus P_CIR(i) est grand, plus l'intensité  de défaut de i sera grande, plus tôt aura lieu son défaut."
   ]
  },
  {
   "cell_type": "code",
   "execution_count": 22,
   "metadata": {},
   "outputs": [
    {
     "name": "stdout",
     "output_type": "stream",
     "text": [
      "0.9999593441204526\n",
      "0.9671983731324376\n"
     ]
    }
   ],
   "source": [
    "def P_CIR(t,T,i,kappa,mu,nu,y0):\n",
    "    h = (kappa[i]**2+2*nu[i]**2)**0.5\n",
    "    A_num = 2*h*math.exp((kappa[i]+h)*(T-t)/2)\n",
    "    A_denom = 2*h + (kappa[i]+h)*(math.exp((T-t)*h)-1)\n",
    "    A = (A_num/A_denom)**(2*kappa[i]*mu[i]/nu[i]**2)\n",
    "    B = 2*(math.exp((T-t)*h)-1)/A_denom\n",
    "    return(A*math.exp(-B*y0[i]))\n",
    "\n",
    "print(P_CIR(0,t,0,kappa,mu,nu,y0))\n",
    "print(P_CIR(0,t,2,kappa,mu,nu,y0))"
   ]
  },
  {
   "cell_type": "markdown",
   "metadata": {},
   "source": [
    "Et voilà la fonction $\\psi_{i}(t,\\beta_{i})$ qu'on cherchait à coder:"
   ]
  },
  {
   "cell_type": "code",
   "execution_count": 24,
   "metadata": {},
   "outputs": [
    {
     "name": "stdout",
     "output_type": "stream",
     "text": [
      "-4.0656706020051536e-05\n",
      "7.690970718011918e-05\n"
     ]
    }
   ],
   "source": [
    "def psi(t,i,kappa,mu,nu,y0,spreads,LGD):\n",
    "    return(np.log(P_CIR(0,t,i,kappa,mu,nu,y0)/Q(t, i, spreads, LGD)))\n",
    "\n",
    "print(psi(1,0,kappa,mu,nu,y0,spreads,LGD))\n",
    "print(psi(1,2,kappa,mu,nu,y0,spreads,LGD))"
   ]
  },
  {
   "cell_type": "markdown",
   "metadata": {},
   "source": [
    "## 4. Simulation des temps d'arrêt:\n",
    "\n",
    "Les temps d'arrêts sont obtenus en inversant l'intensité stochastique intégrée et sont supposés corrélés via une copule gaussienne trivariée et  (formules (3.4) à (3.6) p.9). Pour simuler ces temps d'arrêts on procède en 3 étapes:\n",
    "1. On tire un triplet de lois uniformes corrélées par une copule (en passant par une décomposition de Cholesky de la matrice de covariance, comme expliqué ici: https://stats.stackexchange.com/questions/37424/how-to-simulate-from-a-gaussian-copula)\n",
    "2. On transforme le triplet (u1, u2, u3) obtenu pour obtenir ksi1, ksi2, ksi3 qui suivent des lois exponentielles (formule (3.5))\n",
    "3. On calcule ensuite tau_i (formule (3.4)) en générant un CIR shifté (shifté de la fonction $\\psi$ précédemment calculée) tant que l'intégrale de ce CIR shifté est inférieure à ksi_i. Source: formule (2.1) de l'article *On Cox Processes and Credit Risky Securities* de Lando accessible ici: https://www.researchgate.net/publication/226786879_On_Cox_Processes_and_Credit_Risky_Securities."
   ]
  },
  {
   "cell_type": "markdown",
   "metadata": {},
   "source": [
    "Etape 1:"
   ]
  },
  {
   "cell_type": "code",
   "execution_count": 27,
   "metadata": {},
   "outputs": [
    {
     "data": {
      "text/plain": [
       "array([0.11465216, 0.97765666, 0.9894341 ])"
      ]
     },
     "execution_count": 27,
     "metadata": {},
     "output_type": "execute_result"
    }
   ],
   "source": [
    "def triv_copula(mean, covariance):\n",
    "    d = len(mean) # =3/trivariée\n",
    "    A = np.linalg.cholesky(covariance) # Cholesky triangulaire inférieure\n",
    "    Z = np.random.normal(0,1,d)\n",
    "    X = np.dot(A,Z)\n",
    "    U = stats.norm.cdf(X)\n",
    "    return(U)\n",
    "\n",
    "\n",
    "mean = [0,0,0]\n",
    "covariance = [[1,-0.2,-0.2],[-0.2,1,-0.2],[-0.2,-0.2,10]]\n",
    "triv_copula(mean,covariance)"
   ]
  },
  {
   "cell_type": "markdown",
   "metadata": {},
   "source": [
    "Etape 2:"
   ]
  },
  {
   "cell_type": "code",
   "execution_count": 28,
   "metadata": {},
   "outputs": [
    {
     "data": {
      "text/plain": [
       "array([0.09200969, 0.00692823, 4.92330719])"
      ]
     },
     "execution_count": 28,
     "metadata": {},
     "output_type": "execute_result"
    }
   ],
   "source": [
    "ksi = -np.log(1-triv_copula(mean,covariance))\n",
    "ksi"
   ]
  },
  {
   "cell_type": "markdown",
   "metadata": {},
   "source": [
    "Etape 3:\n",
    "\n",
    "À noter que la fonction tau ci-dessous (qui inverse le CIR shifté) renvoie plusieurs paramètres: l'instant de défaut, l'intensité intégrée à l'instant de défaut, le CIR intégré à l'instant de défaut et enfin la trajectoire du CIR jusqu'à l'instant de défaut. Il est essentiel de conserver ces informations puisque le \"payoff\" de la BRCVA va être conditionné par le premier instant où l'une ou l'autre des parties va faire défaut."
   ]
  },
  {
   "cell_type": "code",
   "execution_count": 36,
   "metadata": {
    "scrolled": true
   },
   "outputs": [
    {
     "name": "stdout",
     "output_type": "stream",
     "text": [
      "Instant de défaut du profil le plus risqué (en années): 54.44000000000291\n"
     ]
    },
    {
     "data": {
      "text/plain": [
       "Text(0.5, 1.0, \"Trajectoire du CIR jusqu'au moment du défaut\")"
      ]
     },
     "execution_count": 36,
     "metadata": {},
     "output_type": "execute_result"
    },
    {
     "data": {
      "image/png": "[encoded data removed]",
      "text/plain": [
       "<Figure size 432x288 with 1 Axes>"
      ]
     },
     "metadata": {
      "needs_background": "light"
     },
     "output_type": "display_data"
    }
   ],
   "source": [
    "def tau(i,kappa,mu,nu,y0,spreads,LGD,delta,ksi):\n",
    "    #delta: pas temporel\n",
    "    \n",
    "    # paramètres du chi deux\n",
    "    df = (4*mu[i]*kappa[i])/(nu[i]**2)\n",
    "    dt = delta\n",
    "    C = (nu[i]**2*(1 - math.exp(-kappa[i]*dt)))/(4*kappa[i])\n",
    "    D = (4*kappa[i]*math.exp(-kappa[i]*dt))/(nu[i]**2*(1 - math.exp(-kappa[i]*dt)))\n",
    "    \n",
    "    # paramètres actualisés dans le while\n",
    "    t = delta #tau\n",
    "    path = [y0[i]]\n",
    "    Y = y0[i]*delta\n",
    "    P = psi(t,i,kappa,mu,nu,y0,spreads,LGD)\n",
    "    L = Y + P\n",
    "    \n",
    "    while (L<ksi[i]):\n",
    "        \n",
    "        t += delta\n",
    "        y = C*np.random.noncentral_chisquare(df, D*path[-1])\n",
    "        path.append(y)\n",
    "        Y += y*delta\n",
    "        P = psi(t,i,kappa,mu,nu,y0,spreads,LGD)\n",
    "        L = Y + P\n",
    "    \n",
    "    return([t,L,Y,path]) #renvoie tau_i, LAMBDA_i(tau_i), Y_i_(tau_i) et y_i[tau_i]\n",
    "\n",
    "\n",
    "\n",
    "delta = 1/50 # pas temporel pour la recherche du temps d'arrêt\n",
    "info2 = tau(2,kappa,mu,nu,y0,spreads,LGD,delta,ksi)\n",
    "tau2, tau2_path = [info2[_] for _ in [0,3]]\n",
    "print('Instant de défaut du profil le plus risqué (en années):',tau2)\n",
    "x = [k*delta for k in range(len(tau2_path))]\n",
    "plt.plot(x, tau2_path, color = 'red')\n",
    "plt.title(\"Trajectoire du CIR jusqu'au moment du défaut\")"
   ]
  },
  {
   "cell_type": "markdown",
   "metadata": {},
   "source": [
    "## 5. Calcul de la BRCVA par Monte Carlo (algorithmes 1, 2 et 3 p.13-14 de l'article):\n",
    "\n",
    "Dans cette partie, nous implémentons les algorithmes 1, 2 et 3 de l'article pour le calcul de la BRCVA. Nous utilisons à cet effet les fonctions codées dans les parties précédentes. Il serait trop long d'expliquer en détail l'imbrication des différents algorithmes en jeu. Aussi, nous vous invitons à exécuter les 3 cellules suivantes pour vous rendre directement à la cellule de calcul de la BRCVA."
   ]
  },
  {
   "cell_type": "code",
   "execution_count": 37,
   "metadata": {},
   "outputs": [],
   "source": [
    "def algo1(N,S,Ta,Tb,Ti,d,kappa,mu,nu,y0,spreads,LGD,delta, mean, covariance):\n",
    "    \n",
    "    CUMBRCVAR = 0\n",
    "    CUMBRCVAP = 0\n",
    "    \n",
    "    for k in range(N):\n",
    "        ksi = -np.log(1-triv_copula(mean,covariance))\n",
    "        \n",
    "        tau0, L0_tau0, Y0_tau0, path0 = tau(0,kappa,mu,nu,y0,spreads,LGD,delta,ksi)\n",
    "        tau1, L1_tau1, Y1_tau1, path1 = tau(1,kappa,mu,nu,y0,spreads,LGD,delta,ksi)\n",
    "        tau2, L2_tau2, Y2_tau2, path2 = tau(2,kappa,mu,nu,y0,spreads,LGD,delta,ksi)\n",
    "        \n",
    "        if (tau2<tau0)&(tau2<tau1)&(tau2<Tb):\n",
    "\n",
    "            U2 = 1-math.exp(-ksi[2])\n",
    "            pos = len(path2)\n",
    "            L0_tau2 = sum(path0[0:pos])*delta + psi(tau2,0,kappa,mu,nu,y0,spreads,LGD)\n",
    "            L1_tau2 = sum(path1[0:pos])*delta + psi(tau2,1,kappa,mu,nu,y0,spreads,LGD)\n",
    "            U02 = 1-math.exp(-L0_tau2)\n",
    "            U12 = 1-math.exp(-L1_tau2)\n",
    "            \n",
    "            [BRCVAR2,BRCVAP2] = algo2(Ta,Tb,tau2,Ti,S,2,d,kappa,mu,nu,y0,spreads,LGD,U2,U02,U12,0,0,0,L1_tau2,0,mean,covariance)\n",
    "            CUMBRCVAR += LGD[2]*BRCVAR2\n",
    "            CUMBRCVAP += LGD[2]*BRCVAP2\n",
    "            \n",
    "        \n",
    "        if (tau0<tau2)&(tau0<tau1)&(tau0<Tb):\n",
    "        \n",
    "            U0 = 1-math.exp(-ksi[0])\n",
    "            pos = len(path0)\n",
    "            L2_tau0 = sum(path2[0:pos])*delta + psi(tau0,2,kappa,mu,nu,y0,spreads,LGD)\n",
    "            L1_tau0 = sum(path1[0:pos])*delta + psi(tau0,1,kappa,mu,nu,y0,spreads,LGD)\n",
    "            U20 = 1-math.exp(-L2_tau0)\n",
    "            U10 = 1-math.exp(-L1_tau0)\n",
    "            \n",
    "            [BRCVAR0,BRCVAP0] = algo2(Ta,Tb,tau0,Ti,S,0,d,kappa,mu,nu,y0,spreads,LGD,0,0,0,U0,U20,U10,0,L1_tau0,mean,covariance)\n",
    "            CUMBRCVAR -= LGD[0]*BRCVAR0\n",
    "            CUMBRCVAP -= LGD[0]*BRCVAP0\n",
    "    \n",
    "    return([CUMBRCVAR/N, CUMBRCVAP/N])"
   ]
  },
  {
   "cell_type": "code",
   "execution_count": 41,
   "metadata": {},
   "outputs": [],
   "source": [
    "def algo2(Ta,Tb,Tj,Ti,S,index,d,kappa,mu,nu,y0,spreads,LGD,U2,U02,U12,U0,U20,U10,L1_tau2,L1_tau0,mean,covariance):\n",
    "    \n",
    "    term1, term2, term3 = 0, 0, 0\n",
    "    t_start = max(Ta, Tj)\n",
    "    Q_prev = algo3(t_start,index,kappa,mu,nu,y0,spreads,LGD,U2,U02,U12,U0,U20,U10,L1_tau2,L1_tau0,mean,covariance)\n",
    "    \n",
    "    # on suppose term1=0: pas de coupons courus\n",
    "    for t in np.linspace(t_start, Tb, d):\n",
    "        Q_curr = algo3(t,index,kappa,mu,nu,y0,spreads,LGD,U2,U02,U12,U0,U20,U10,L1_tau2,L1_tau0,mean,covariance)\n",
    "        term3 += P_CIR(Tj,t,0,kappa,mu,nu,y0)*(Q_curr-Q_prev) #P_CIR prend index=0 car risk-free rate paramètres\n",
    "        Q_prev = Q_curr\n",
    "    \n",
    "    # terme 2\n",
    "    Ti = np.asarray(Ti)\n",
    "    Ti = Ti[Ti>t_start].tolist() # paiements restants\n",
    "    Ti = [t_start]+Ti\n",
    "    for k in range(1,len(Ti)):\n",
    "        alpha = Ti[k]-Ti[k-1]\n",
    "        Q_curr = algo3(Ti[k],index,kappa,mu,nu,y0,spreads,LGD,U2,U02,U12,U0,U20,U10,L1_tau2,L1_tau0,mean,covariance)\n",
    "        term2 += alpha*P_CIR(Tj,Ti[k],0,kappa,mu,nu,y0)*Q_curr\n",
    "    \n",
    "    #on assemble les termes du CDS\n",
    "    CDSval = -S*term2 + LGD[1]*term3\n",
    "    \n",
    "    #\n",
    "    if index==2:\n",
    "        CDSr = P_CIR(0,Tj,0,kappa,mu,nu,y0)*max(0,CDSval) # vu de la date 0\n",
    "        CDSp = P_CIR(0,Tj,0,kappa,mu,nu,y0)*max(0,-CDSval)\n",
    "    if index==0:\n",
    "        CDSr = P_CIR(0,Tj,0,kappa,mu,nu,y0)*max(0,-CDSval)\n",
    "        CDSp = P_CIR(0,Tj,0,kappa,mu,nu,y0)*max(0,CDSval)\n",
    "     \n",
    "    #\n",
    "    return([CDSr,CDSp])\n",
    "         "
   ]
  },
  {
   "cell_type": "code",
   "execution_count": 42,
   "metadata": {},
   "outputs": [],
   "source": [
    "def algo3(t,index,kappa,mu,nu,y0,spreads,LGD,U2,U02,U12,U0,U20,U10,L1_tau2,L1_tau0,mean,covariance): #on mettra des 0 si pas définis au moment d'utiliser l'algo\n",
    "\n",
    "    xmax = 50*y0[index] # sujet du choix de xmax\n",
    "    \n",
    "    #choix du xmin: changement de variable conditionnellement à tau_index dans la fonction de rép. en (4.4-6)\n",
    "    psi1t = psi(t,1,kappa,mu,nu,y0,spreads,LGD)\n",
    "    if index==2:\n",
    "        xmin = L1_tau2 - psi1t\n",
    "    if index==0:\n",
    "        xmin = L1_tau0 - psi1t\n",
    "        \n",
    "    D = 100 # param à bien choisir également\n",
    "    \n",
    "    #initialisation des paramètres\n",
    "    Pk = [F(xmin,t,1,kappa,mu,nu,y0)]\n",
    "    uk = 1-math.exp(-xmin-psi1t)\n",
    "    if index==2:\n",
    "        Fk = [Cf(uk,U2,2,U02,U12,U20,U10,mean,covariance)]\n",
    "    if index==0:\n",
    "        Fk = [Cf(uk,U0,0,U02,U12,U20,U10,mean,covariance)]\n",
    "    Qi = 0\n",
    "\n",
    "    for x in np.linspace(xmin,xmax,D):\n",
    "        Pk.append(F(x,t,1,kappa,mu,nu,y0))\n",
    "        uk = 1-math.exp(-x-psi1t)\n",
    "        if index==2:\n",
    "            Fk.append(Cf(uk,U2,2,U02,U12,U20,U10,mean,covariance))\n",
    "        if index==0:\n",
    "            Fk.append(Cf(uk,U0,0,U02,U12,U20,U10,mean,covariance))\n",
    "        Qi += Pk[-2]*(Fk[-1]-Fk[-2])\n",
    "    \n",
    "    return(Qi)"
   ]
  },
  {
   "cell_type": "markdown",
   "metadata": {},
   "source": [
    "#### Calcul de BRCVA pour un jeu de paramètres donné:"
   ]
  },
  {
   "cell_type": "code",
   "execution_count": 49,
   "metadata": {},
   "outputs": [
    {
     "name": "stderr",
     "output_type": "stream",
     "text": [
      "C:\\Users\\Antoine\\Anaconda3\\lib\\site-packages\\ipykernel_launcher.py:6: IntegrationWarning: The algorithm does not converge.  Roundoff error is detected\n",
      "  in the extrapolation table.  It is assumed that the requested tolerance\n",
      "  cannot be achieved, and that the returned result (if full_output = 1) is \n",
      "  the best which can be obtained.\n",
      "  \n",
      "C:\\Users\\Antoine\\Anaconda3\\lib\\site-packages\\ipykernel_launcher.py:6: IntegrationWarning: The maximum number of subdivisions (50) has been achieved.\n",
      "  If increasing the limit yields no improvement it is advised to analyze \n",
      "  the integrand in order to determine the difficulties.  If the position of a \n",
      "  local difficulty can be determined (singularity, discontinuity) one will \n",
      "  probably gain from splitting up the interval and calling the integrator \n",
      "  on the subranges.  Perhaps a special-purpose integrator should be used.\n",
      "  \n",
      "C:\\Users\\Antoine\\Anaconda3\\lib\\site-packages\\ipykernel_launcher.py:6: IntegrationWarning: The integral is probably divergent, or slowly convergent.\n",
      "  \n"
     ]
    },
    {
     "name": "stdout",
     "output_type": "stream",
     "text": [
      "[BRCVAR, BRCVAP] =  [-0.0003738592028263526, 0.0]\n"
     ]
    }
   ],
   "source": [
    "### Paramètres pour le calcul de la BRCVA\n",
    "\n",
    "# paramètres CIR de 0, 1 et 2:\n",
    "y0 = [0.03, 0.01, 0.03]\n",
    "kappa = [0.5, 0.8, 0.5]\n",
    "mu = [0.05, 0.02, 0.05]\n",
    "nu = [0.5, 0.2, 0.5]\n",
    "\n",
    "# autres paramètres:\n",
    "Ta = 1 # date de commencement du CDS\n",
    "Tb = 10 # date d'expiration du CDS\n",
    "Ti = [0.5*k for k in range(3,2*Tb+1)] # [1.5, ... Tb], il s'agit de l'échéancier du CDS\n",
    "delta = 0.1 # pas pour la recherche du temps d'arrêt (algorithme tau de la section 4)\n",
    "d = 5 # pas pour la discrétisation de l'intégrale dans le payoff du CDS\n",
    "mean = [0,0,0] # paramètre de copule pour la corrélation des temps de défaut\n",
    "covariance = [[1,-0.2,-0.2], [-0.2,1,-0.2], [-0.2,-0.2,1]] # paramètre de copule\n",
    "S = 0.02 # taux de prime versée dans le cadre du CDS\n",
    "N = 5 # nombre de boucles pour la simulation par Monte Carlo dans l'algorithme 1\n",
    "\n",
    "\n",
    "## Calcul de la BRCVA\n",
    "print('[BRCVAR, BRCVAP] = ', algo1(N,S,Ta,Tb,Ti,d,kappa,mu,nu,y0,spreads,LGD,delta,mean,covariance))"
   ]
  },
  {
   "cell_type": "markdown",
   "metadata": {},
   "source": [
    "## 6. Pistes d'amélioration:\n",
    "\n",
    "Notre algorithme de calcul de la BRCVA est relativement lent. Cela est dû à l'imbrication de nombreuses boucles: pour chaque simulation, il faut calculer un payoff de CDS qui nécessite de discrétiser une intégrale; discrétisation dont le pas est à chaque étape calculé lui-même par discrétisation d'une autre intégrale... Nous citons ci-dessous 2 pistes d'amélioration de notre travail:\n",
    "- une réflexion doit être menée sur le choix des pas de discrétisation dans les différentes approximations d'intégrales (algorithmes 2 et 3);\n",
    "- une procédure d'intégration numérique adaptative de Gauss-Lobatto doit être implémentée pour limiter les oscillations de la fonction de répartition du processus CIR intégré.\n"
   ]
  },
  {
   "cell_type": "code",
   "execution_count": null,
   "metadata": {},
   "outputs": [],
   "source": []
  }
 ],
 "metadata": {
  "kernelspec": {
   "display_name": "Python 3",
   "language": "python",
   "name": "python3"
  },
  "language_info": {
   "codemirror_mode": {
    "name": "ipython",
    "version": 3
   },
   "file_extension": ".py",
   "mimetype": "text/x-python",
   "name": "python",
   "nbconvert_exporter": "python",
   "pygments_lexer": "ipython3",
   "version": "3.6.10"
  }
 },
 "nbformat": 4,
 "nbformat_minor": 4
}
